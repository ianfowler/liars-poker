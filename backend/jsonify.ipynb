{
 "cells": [
  {
   "cell_type": "code",
   "execution_count": 1,
   "metadata": {},
   "outputs": [],
   "source": [
    "from dataclasses import dataclass, asdict, fields\n",
    "from flask import Flask, request, jsonify\n",
    "import pickle\n",
    "import json\n",
    "from common import * "
   ]
  },
  {
   "cell_type": "code",
   "execution_count": 21,
   "metadata": {},
   "outputs": [],
   "source": [
    "from typing import Optional\n",
    "\n",
    "@dataclass\n",
    "class GameSubState:\n",
    "  num_cards: str\n",
    "  named_hand: str\n",
    "  \n",
    "\n",
    "@dataclass\n",
    "class GameState:\n",
    "  name: Optional[str]\n",
    "  sub_state: Optional[GameSubState]\n",
    "\n",
    "  def to_dict(self):\n",
    "        return asdict(self)\n",
    "\n",
    "x = GameState(name=None, sub_state=GameSubState(num_cards=3, named_hand=str(NamedHand(quantity=3, card='A'))))\n",
    "# x = GameState(name=\"asdf\")"
   ]
  },
  {
   "cell_type": "code",
   "execution_count": 22,
   "metadata": {},
   "outputs": [
    {
     "name": "stdout",
     "output_type": "stream",
     "text": [
      "b'\\x80\\x04\\x95r\\x00\\x00\\x00\\x00\\x00\\x00\\x00\\x8c\\x08__main__\\x94\\x8c\\tGameState\\x94\\x93\\x94)\\x81\\x94}\\x94(\\x8c\\x04name\\x94N\\x8c\\tsub_state\\x94h\\x00\\x8c\\x0cGameSubState\\x94\\x93\\x94)\\x81\\x94}\\x94(\\x8c\\tnum_cards\\x94K\\x03\\x8c\\nnamed_hand\\x94\\x8c\\x033,A\\x94ubub.'\n",
      "Pickle deserialization successful.\n"
     ]
    }
   ],
   "source": [
    "try:\n",
    "    serialized_x = pickle.dumps(x)\n",
    "    print(serialized_x)\n",
    "    deserialized_x = pickle.loads(serialized_x)\n",
    "    print(\"Pickle deserialization successful.\")\n",
    "except pickle.PicklingError as e:\n",
    "    print(f\"Pickle serialization error: {e}\")\n",
    "except Exception as e:\n",
    "    print(f\"An error occurred during pickling: {e}\")"
   ]
  },
  {
   "cell_type": "code",
   "execution_count": 23,
   "metadata": {},
   "outputs": [
    {
     "name": "stdout",
     "output_type": "stream",
     "text": [
      "{\"name\": null, \"sub_state\": {\"num_cards\": 3, \"named_hand\": \"3,A\"}}\n",
      "{'name': None, 'sub_state': {'num_cards': 3, 'named_hand': '3,A'}}\n",
      "Pickle deserialization successful.\n"
     ]
    }
   ],
   "source": [
    "def game_state_to_dict(game_state):\n",
    "    return asdict(game_state)\n",
    "\n",
    "def dict_to_game_state(d):\n",
    "    return GameState(**d)\n",
    "\n",
    "try:\n",
    "    serialized_x = json.dumps(x.to_dict())\n",
    "    print(serialized_x)\n",
    "    deserialized_x = json.loads(serialized_x)\n",
    "    print(deserialized_x)\n",
    "    print(\"Pickle deserialization successful.\")\n",
    "except TypeError as e:\n",
    "    print(f\"Pickle serialization error: {e}\")\n",
    "except Exception as e:\n",
    "    print(f\"An error occurred during pickling: {e}\")"
   ]
  },
  {
   "cell_type": "code",
   "execution_count": null,
   "metadata": {},
   "outputs": [],
   "source": []
  }
 ],
 "metadata": {
  "kernelspec": {
   "display_name": "Python 3",
   "language": "python",
   "name": "python3"
  },
  "language_info": {
   "codemirror_mode": {
    "name": "ipython",
    "version": 3
   },
   "file_extension": ".py",
   "mimetype": "text/x-python",
   "name": "python",
   "nbconvert_exporter": "python",
   "pygments_lexer": "ipython3",
   "version": "3.11.3"
  }
 },
 "nbformat": 4,
 "nbformat_minor": 2
}
